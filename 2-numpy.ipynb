{
 "cells": [
  {
   "cell_type": "code",
   "execution_count": null,
   "metadata": {},
   "outputs": [],
   "source": [
    "# NUMPY:\n",
    "# a powerful library to work with numbers and matrices"
   ]
  },
  {
   "cell_type": "code",
   "execution_count": 5,
   "metadata": {},
   "outputs": [],
   "source": [
    "import numpy  # RUN THIS SECTION FIRST"
   ]
  },
  {
   "cell_type": "code",
   "execution_count": 6,
   "metadata": {},
   "outputs": [
    {
     "name": "stdout",
     "output_type": "stream",
     "text": [
      "[1 2 3]\n",
      "\n",
      "[[1 2 3]\n",
      " [4 5 6]\n",
      " [7 8 9]]\n",
      "\n",
      "[[0. 0. 0. 0. 0.]\n",
      " [0. 0. 0. 0. 0.]\n",
      " [0. 0. 0. 0. 0.]\n",
      " [0. 0. 0. 0. 0.]]\n",
      "\n",
      "[[1. 1. 1.]]\n",
      "\n"
     ]
    }
   ],
   "source": [
    "# creating numpy arrays(matrices):\n",
    "\n",
    "# 1D\n",
    "arr = numpy.array([1, 2, 3])\n",
    "print(arr)\n",
    "print()\n",
    "\n",
    "# 2D\n",
    "arr = numpy.array([\n",
    "    [1, 2, 3],\n",
    "    [4, 5, 6],\n",
    "    [7, 8 ,9]\n",
    "])\n",
    "print(arr)\n",
    "print()\n",
    "\n",
    "# zero or one initializations\n",
    "arr = numpy.zeros((4, 5))\n",
    "print(arr)\n",
    "print()\n",
    "\n",
    "arr = numpy.ones((1, 3))\n",
    "print(arr)\n",
    "print()"
   ]
  },
  {
   "cell_type": "code",
   "execution_count": 7,
   "metadata": {},
   "outputs": [
    {
     "name": "stdout",
     "output_type": "stream",
     "text": [
      "[[1. 0. 0.]\n",
      " [0. 1. 0.]\n",
      " [0. 0. 1.]]\n"
     ]
    }
   ],
   "source": [
    "# identity matrix\n",
    "m = numpy.identity(3)\n",
    "print(m)"
   ]
  },
  {
   "cell_type": "code",
   "execution_count": 46,
   "metadata": {},
   "outputs": [
    {
     "name": "stdout",
     "output_type": "stream",
     "text": [
      "(2, 3)\n"
     ]
    }
   ],
   "source": [
    "# getting array dimentions\n",
    "m = numpy.array([\n",
    "    [1, 2, 3],\n",
    "    [4, 5 ,6]\n",
    "])\n",
    "print(m.shape)"
   ]
  },
  {
   "cell_type": "code",
   "execution_count": 64,
   "metadata": {
    "scrolled": true
   },
   "outputs": [
    {
     "name": "stdout",
     "output_type": "stream",
     "text": [
      "[[0 0 0]\n",
      " [0 0 0]]\n",
      "\n",
      "[[ 2  4  6]\n",
      " [ 8 10 12]]\n",
      "\n",
      "[[ 6  6]\n",
      " [15 15]]\n",
      "\n"
     ]
    }
   ],
   "source": [
    "# operations on matrices:\n",
    "\n",
    "# +, -\n",
    "m1 = numpy.array([\n",
    "    [1, 2, 3],\n",
    "    [4, 5 ,6]\n",
    "])\n",
    "m2 = numpy.array([\n",
    "    [-1, -2, -3],\n",
    "    [-4, -5 ,-6]\n",
    "])\n",
    "\n",
    "print(m1 + m2)\n",
    "print()\n",
    "\n",
    "# scalar multiplication\n",
    "print(2 * m1)\n",
    "print()\n",
    "\n",
    "# matrix dot product\n",
    "m1 = numpy.array([\n",
    "    [1, 2, 3],\n",
    "    [4, 5, 6]\n",
    "])\n",
    "m2 = numpy.array([\n",
    "    [1, 1],\n",
    "    [1, 1],\n",
    "    [1, 1]\n",
    "])\n",
    "print(numpy.dot(m1, m2))\n",
    "print()"
   ]
  },
  {
   "cell_type": "code",
   "execution_count": null,
   "metadata": {},
   "outputs": [],
   "source": [
    "# indexing\n",
    "m = numpy.array([\n",
    "    [1, 2, 3],\n",
    "    [4, 5, 6],\n",
    "    [7, 8 ,9]\n",
    "])\n",
    "\n",
    "print(m[1, 2])  # or m[1][2]\n",
    "print()"
   ]
  },
  {
   "cell_type": "code",
   "execution_count": 98,
   "metadata": {},
   "outputs": [
    {
     "name": "stdout",
     "output_type": "stream",
     "text": [
      "[[2 3]\n",
      " [5 6]]\n",
      "\n",
      "[3 6 9]\n",
      "\n",
      "[[1 2]\n",
      " [4 5]\n",
      " [7 8]]\n"
     ]
    }
   ],
   "source": [
    "# slicing:\n",
    "\n",
    "m = numpy.array([\n",
    "    [1, 2, 3],\n",
    "    [4, 5, 6],\n",
    "    [7, 8 ,9]\n",
    "])\n",
    "\n",
    "# slicing rows [0, 2) and columns [1, 3) \n",
    "m1 = m[0: 2, 1: 3]\n",
    "print(m1)\n",
    "print()\n",
    "\n",
    "# slicing last column\n",
    "m2 = m[:, 2]\n",
    "print(m2)\n",
    "print()\n",
    "\n",
    "# slicing all columns except the last one\n",
    "m3 = m[:, 0: -1]\n",
    "print(m3)"
   ]
  },
  {
   "cell_type": "code",
   "execution_count": 103,
   "metadata": {},
   "outputs": [
    {
     "name": "stdout",
     "output_type": "stream",
     "text": [
      "[3 6 9]\n",
      "\n",
      "[[3]\n",
      " [6]\n",
      " [9]]\n"
     ]
    }
   ],
   "source": [
    "# reshaping\n",
    "m = numpy.array([\n",
    "    [1, 2, 3],\n",
    "    [4, 5, 6],\n",
    "    [7, 8 ,9]\n",
    "])        \n",
    "c = m[:, 2]\n",
    "print(c)\n",
    "print()\n",
    "                \n",
    "c = c.reshape((3, 1))\n",
    "print(c)"
   ]
  },
  {
   "cell_type": "code",
   "execution_count": 104,
   "metadata": {},
   "outputs": [
    {
     "name": "stdout",
     "output_type": "stream",
     "text": [
      "[[1 2 7]\n",
      " [3 4 8]\n",
      " [5 6 9]]\n"
     ]
    }
   ],
   "source": [
    "# combining\n",
    "A = numpy.array([\n",
    "    [1, 2],\n",
    "    [3, 4],\n",
    "    [5, 6]\n",
    "])\n",
    "\n",
    "b = numpy.array([\n",
    "    [7],\n",
    "    [8],\n",
    "    [9]\n",
    "])\n",
    "\n",
    "print(numpy.hstack((A, b)))"
   ]
  }
 ],
 "metadata": {
  "kernelspec": {
   "display_name": "Python 3",
   "language": "python",
   "name": "python3"
  },
  "language_info": {
   "codemirror_mode": {
    "name": "ipython",
    "version": 3
   },
   "file_extension": ".py",
   "mimetype": "text/x-python",
   "name": "python",
   "nbconvert_exporter": "python",
   "pygments_lexer": "ipython3",
   "version": "3.6.9"
  }
 },
 "nbformat": 4,
 "nbformat_minor": 2
}
