{
 "cells": [
  {
   "cell_type": "code",
   "execution_count": null,
   "metadata": {},
   "outputs": [],
   "source": [
    "# PYTHON BASICS:"
   ]
  },
  {
   "cell_type": "code",
   "execution_count": 31,
   "metadata": {},
   "outputs": [
    {
     "name": "stdout",
     "output_type": "stream",
     "text": [
      "Hello World!\n",
      "testing...\n",
      "a b\n"
     ]
    }
   ],
   "source": [
    "# printing:\n",
    "\n",
    "print('Hello World!')\n",
    "\n",
    "# notice that the string is written between ''\n",
    "# but it also can be written between \"\"\n",
    "print(\"testing...\")\n",
    "\n",
    "# printing multiple values\n",
    "print('a', 'b')\n",
    "\n",
    "# notice that we use # to write comments\n",
    "# also, there's no need for Semicolons"
   ]
  },
  {
   "cell_type": "code",
   "execution_count": 32,
   "metadata": {},
   "outputs": [
    {
     "name": "stdout",
     "output_type": "stream",
     "text": [
      "5\n",
      "3.14\n",
      "this is a string!\n",
      "5\n",
      "foo\n",
      "<class 'int'>\n",
      "<class 'float'>\n",
      "<class 'str'>\n"
     ]
    }
   ],
   "source": [
    "# variables:\n",
    "\n",
    "# in python we don't need to explicitly declare a vaiable and its type before using it,\n",
    "# we just need to assign a value to a variable name\n",
    "n = 5\n",
    "print(n)\n",
    "\n",
    "f = 3.14\n",
    "print(f)\n",
    "\n",
    "s = 'this is a string!'\n",
    "print(s)\n",
    "\n",
    "# variables are not statically typed, i.e. the type of variables can change,\n",
    "# for example:\n",
    "v = 5\n",
    "print(v)\n",
    "v = 'foo'\n",
    "print(v)\n",
    "\n",
    "# also, python is Object Oriented and all datatype are objects\n",
    "print(type(n))\n",
    "print(type(f))\n",
    "print(type(s))"
   ]
  },
  {
   "cell_type": "code",
   "execution_count": 33,
   "metadata": {},
   "outputs": [
    {
     "name": "stdout",
     "output_type": "stream",
     "text": [
      "Hello John!\n",
      "n is 5 and is of type <class 'int'>\n",
      "f is 3.140000\n"
     ]
    }
   ],
   "source": [
    "# more about strings:\n",
    "\n",
    "# concatination\n",
    "name = 'John'\n",
    "print('Hello ' + name + '!')\n",
    "\n",
    "# string formatting (similar to C language)\n",
    "n = 5\n",
    "f = 3.14\n",
    "print('n is %d and is of type %s' %(n, type(n)))\n",
    "print('f is %f' %(f))"
   ]
  },
  {
   "cell_type": "code",
   "execution_count": 34,
   "metadata": {},
   "outputs": [
    {
     "name": "stdout",
     "output_type": "stream",
     "text": [
      "hey 111\n",
      "hey 111\n",
      "<class 'str'>\n",
      "45\n",
      "45\n",
      "<class 'int'>\n"
     ]
    }
   ],
   "source": [
    "# getting command-line input:\n",
    "\n",
    "# python has the function input() to read from commnad-line\n",
    "# input() reads a line (including all 'spaces' in between)\n",
    "# and always returns it as a string object\n",
    "\n",
    "s = input()\n",
    "print(s)\n",
    "print(type(s))\n",
    "\n",
    "# so if we need an integer or a floating-point number, we need to cast it:\n",
    "n = int(input())  # or float(input())\n",
    "print(n)\n",
    "print(type(n))\n",
    "\n",
    "# and we can use split() function to split numbers given in a line"
   ]
  },
  {
   "cell_type": "code",
   "execution_count": 35,
   "metadata": {},
   "outputs": [
    {
     "name": "stdout",
     "output_type": "stream",
     "text": [
      "32\n",
      "3.5\n",
      "3\n",
      "33\n"
     ]
    }
   ],
   "source": [
    "# 2 new operators are:\n",
    "\n",
    "# power operator\n",
    "n = 2 ** 5\n",
    "print(n)  # shall print 2 ^ 5 = 32\n",
    "\n",
    "# division and floor\n",
    "print(7 / 2)\n",
    "print( 7 // 2)  # shall print floor of (7 / 2) which is 3\n",
    "\n",
    "# alos, we don't have n++, so:\n",
    "n += 1\n",
    "print(n)"
   ]
  },
  {
   "cell_type": "code",
   "execution_count": 36,
   "metadata": {},
   "outputs": [
    {
     "name": "stdout",
     "output_type": "stream",
     "text": [
      "n is 6 now!\n",
      "out of if scope\n",
      "n is bigger than n\n"
     ]
    }
   ],
   "source": [
    "# conditional statements:\n",
    "\n",
    "# if\n",
    "n = 5\n",
    "if n == 5:\n",
    "    n += 1\n",
    "    print('n is 6 now!')\n",
    "print('out of if scope')\n",
    "    \n",
    "# notice that there's no need to use () around conditions\n",
    "# we don't have {}, instead we use :\n",
    "# the scope of 'if' ends where there's not indentation (i.e. where there is not tab at the beginning of the line)\n",
    "\n",
    "# if, elif (~ else if), else:\n",
    "n = 5\n",
    "m = 3\n",
    "if n < m:\n",
    "    print('n is smaller than m')\n",
    "elif n == m:\n",
    "    print('n is equal to m')\n",
    "else:\n",
    "    print('n is bigger than n')\n",
    "    \n",
    "# we also have 'not' and 'is' that you can Google them to find what they are..."
   ]
  },
  {
   "cell_type": "code",
   "execution_count": 37,
   "metadata": {},
   "outputs": [
    {
     "name": "stdout",
     "output_type": "stream",
     "text": [
      "<class 'list'>\n",
      "[1, 0, 3, 4, 5]\n",
      "[1, 0, 3, 4, 5, 3.14, 'foo']\n",
      "7\n"
     ]
    }
   ],
   "source": [
    "# list:\n",
    "\n",
    "# there is actually no array type in python, and list is like ArrayList<> in Java\n",
    "\n",
    "lst = []  # empty initialization\n",
    "lst = [2 , 3]  # initializaion with 2 and 3 included \n",
    "print(type(lst))\n",
    "\n",
    "lst.append(4)  # adds new data to the end of list\n",
    "lst.append(5)\n",
    "lst.insert(0, 1)  # inserts new data to the beginning\n",
    "\n",
    "lst[1] = 0 # accessing indexes\n",
    "print(lst)\n",
    "\n",
    "# list can have values of any type:\n",
    "lst.append(3.14)\n",
    "lst.append('foo')\n",
    "print(lst)\n",
    "\n",
    "# length of a list:\n",
    "print(len(lst))"
   ]
  },
  {
   "cell_type": "code",
   "execution_count": 38,
   "metadata": {},
   "outputs": [
    {
     "name": "stdout",
     "output_type": "stream",
     "text": [
      "hello!\n",
      "20\n"
     ]
    }
   ],
   "source": [
    "# functions:\n",
    "\n",
    "# defining a function:\n",
    "def sayHello():\n",
    "    print('hello!')\n",
    "\n",
    "# calling it\n",
    "sayHello()\n",
    "\n",
    "# arguments and return:\n",
    "def multiply(n1, n2):  # arguments can be of any type\n",
    "    result = n1 * n2\n",
    "    return result  # return value can be of any type\n",
    "\n",
    "print(multiply(4, 5))"
   ]
  },
  {
   "cell_type": "code",
   "execution_count": 39,
   "metadata": {},
   "outputs": [
    {
     "name": "stdout",
     "output_type": "stream",
     "text": [
      "(5, 6)\n",
      "<class 'tuple'>\n",
      "(1, True)\n"
     ]
    }
   ],
   "source": [
    "# tuple:\n",
    "\n",
    "# tuples are similar to lists but are immutable\n",
    "t = (5, 6)  # must be initialized with values\n",
    "print(t)\n",
    "print(type(t))\n",
    "\n",
    "# they're useful when we want to return multiple values from a function, for example:\n",
    "def func():\n",
    "    v1 = 1\n",
    "    v2 = True\n",
    "    return (v1, v2)\n",
    "\n",
    "ret = func()\n",
    "print(ret)"
   ]
  },
  {
   "cell_type": "code",
   "execution_count": 40,
   "metadata": {},
   "outputs": [
    {
     "name": "stdout",
     "output_type": "stream",
     "text": [
      "0\n",
      "1\n",
      "2\n",
      "3\n",
      "4\n",
      "\n",
      "0\n",
      "1\n",
      "2\n",
      "3\n",
      "4\n",
      "\n",
      "0\n",
      "2\n",
      "4\n",
      "6\n",
      "8\n",
      "\n",
      "a\n",
      "b\n",
      "1\n",
      "2\n",
      "3.14\n",
      "(4, 5)\n"
     ]
    }
   ],
   "source": [
    "# loop:\n",
    "\n",
    "# while loop\n",
    "a = 0\n",
    "while a < 5:\n",
    "    print(a)\n",
    "    a += 1\n",
    "print()\n",
    "\n",
    "# for loop\n",
    "# well, we don't have such thing: for (i = 0; i < 5; i++)\n",
    "# we only have 'for in' (which is similar to For-Each in Java)\n",
    "# which iterates a 'list' or a 'range', for example:\n",
    "\n",
    "for i in range(0, 5):  # range(0, 5) create 0, 1, 2, 3, 4\n",
    "    print(i)\n",
    "print()\n",
    "\n",
    "for i in range(0, 10, 2):  # range from 0 to 9, but increament by 2\n",
    "    print(i)\n",
    "print()\n",
    "\n",
    "lst = ['a', 'b', 1, 2, 3.14, (4, 5)]\n",
    "for i in lst:\n",
    "    print(i)"
   ]
  },
  {
   "cell_type": "code",
   "execution_count": 41,
   "metadata": {},
   "outputs": [
    {
     "name": "stdout",
     "output_type": "stream",
     "text": [
      "[1, 4, 9, 16, 25]\n",
      "\n",
      "[2.0, 3.0, 4.0]\n",
      "\n"
     ]
    }
   ],
   "source": [
    "# single-line operations:\n",
    "\n",
    "a = [1, 2, 3, 4 ,5]\n",
    "b = [i ** 2 for i in a]  # creating a new list having i^2 for every i in list a\n",
    "print(b)\n",
    "print()\n",
    "\n",
    "# with condition\n",
    "import math\n",
    "a = [-1, -2, 4, 9, 16]\n",
    "b = [math.sqrt(i) for i in a if i >= 0]\n",
    "print(b)\n",
    "print()"
   ]
  }
 ],
 "metadata": {
  "kernelspec": {
   "display_name": "Python 3",
   "language": "python",
   "name": "python3"
  },
  "language_info": {
   "codemirror_mode": {
    "name": "ipython",
    "version": 3
   },
   "file_extension": ".py",
   "mimetype": "text/x-python",
   "name": "python",
   "nbconvert_exporter": "python",
   "pygments_lexer": "ipython3",
   "version": "3.6.9"
  }
 },
 "nbformat": 4,
 "nbformat_minor": 2
}
